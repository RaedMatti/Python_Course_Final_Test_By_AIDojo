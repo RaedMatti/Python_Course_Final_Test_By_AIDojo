{
  "cells": [
    {
      "cell_type": "markdown",
      "metadata": {
        "id": "T3aEpaqKlruq"
      },
      "source": [
        "Start by making a copy of this file to your own drive (in menubar, select **File$\\rightarrow$Save copy in Drive**)\n",
        "\n",
        "Make sure you fill in any place that says `YOUR CODE HERE` without modifying the comment\n",
        "\n",
        "Before you turn this problem in, make sure everything runs as expected (in the menubar, select **Runtime$\\rightarrow$Restart and run all**).\n",
        "\n",
        "To submit your solution, download the colab file as a Jupyter Notebook file (in the menubar, select **File$\\rightarrow$Download$\\rightarrow$Download .ipynb**) and upload it in the provided form."
      ]
    },
    {
      "cell_type": "markdown",
      "metadata": {
        "deletable": false,
        "editable": false,
        "id": "ceD5kIrZ7QuP",
        "nbgrader": {
          "cell_type": "markdown",
          "checksum": "56b7a22ea0b9654ce51b253faa4f48e6",
          "grade": false,
          "grade_id": "cell-5cf5358ac34dbe85",
          "locked": true,
          "schema_version": 3,
          "solution": false,
          "task": false
        }
      },
      "source": [
        "# Assignment\n",
        "\n",
        "A company that develops a managment software has tasked you to create an employee's managment system. Your task includes the following steps:\n",
        "1. Create the proper classes following OOP principles\n",
        "    1. Create a `Person` class with the required fields and functionality **(2 pts)**.\n",
        "    2. Create an `Employee` class that extends the `Person` class with the required fields and functionality **(2 pts)**.\n",
        "2. Read the HRDataset files into a list of dictionaries where each dictionary contains an employee's information **(4 pts)**.\n",
        "3. Use the created list from Task 2 to instatiate an `Employee` object for each employee dictionary and save the objects in a list **(2 pts)**."
      ]
    },
    {
      "cell_type": "markdown",
      "metadata": {
        "deletable": false,
        "editable": false,
        "id": "CfcL1KhxraP8",
        "nbgrader": {
          "cell_type": "markdown",
          "checksum": "3eae39890ca6c8af4c0caea33bb4a8c5",
          "grade": false,
          "grade_id": "cell-729641e6a5e72b2f",
          "locked": true,
          "schema_version": 3,
          "solution": false,
          "task": false
        }
      },
      "source": [
        "## Assignment Prep\n",
        "\n",
        "Run the following code without editing it to download and extract the data & import necessary libraries"
      ]
    },
    {
      "cell_type": "code",
      "execution_count": 1,
      "metadata": {
        "deletable": false,
        "editable": false,
        "id": "TjfXvEhGdXFx",
        "nbgrader": {
          "cell_type": "code",
          "checksum": "34e0f8a4d64b907f8fef162f89246b77",
          "grade": false,
          "grade_id": "cell-0221c6dc5fd14d39",
          "locked": true,
          "schema_version": 3,
          "solution": false,
          "task": false
        },
        "colab": {
          "base_uri": "https://localhost:8080/"
        },
        "outputId": "bde81735-450b-4a0f-8b79-8a7d6659d4df"
      },
      "outputs": [
        {
          "output_type": "stream",
          "name": "stdout",
          "text": [
            "--2022-11-02 15:13:39--  https://raw.githubusercontent.com/TheAIDojo/Python-Course/main/HRDataset.zip\n",
            "Resolving raw.githubusercontent.com (raw.githubusercontent.com)... 185.199.108.133, 185.199.109.133, 185.199.110.133, ...\n",
            "Connecting to raw.githubusercontent.com (raw.githubusercontent.com)|185.199.108.133|:443... connected.\n",
            "HTTP request sent, awaiting response... 200 OK\n",
            "Length: 7642 (7.5K) [application/zip]\n",
            "Saving to: ‘HRDataset.zip’\n",
            "\n",
            "HRDataset.zip       100%[===================>]   7.46K  --.-KB/s    in 0s      \n",
            "\n",
            "2022-11-02 15:13:39 (92.1 MB/s) - ‘HRDataset.zip’ saved [7642/7642]\n",
            "\n",
            "Archive:  HRDataset.zip\n",
            "   creating: HRDataset/\n",
            "  inflating: HRDataset/10014.yaml    \n",
            "  inflating: HRDataset/10002.yaml    \n",
            "  inflating: HRDataset/10018.yaml    \n",
            "  inflating: HRDataset/10022.yaml    \n",
            "  inflating: HRDataset/10023.yaml    \n",
            " extracting: HRDataset/10019.yaml    \n",
            "  inflating: HRDataset/10003.yaml    \n",
            " extracting: HRDataset/10015.yaml    \n",
            " extracting: HRDataset/10008.yaml    \n",
            " extracting: HRDataset/10024.yaml    \n",
            " extracting: HRDataset/10012.yaml    \n",
            "  inflating: HRDataset/10004.yaml    \n",
            " extracting: HRDataset/10028.yaml    \n",
            "  inflating: HRDataset/10029.yaml    \n",
            " extracting: HRDataset/10005.yaml    \n",
            " extracting: HRDataset/10013.yaml    \n",
            "  inflating: HRDataset/10025.yaml    \n",
            "  inflating: HRDataset/10009.yaml    \n",
            "  inflating: HRDataset/10026.yaml    \n",
            " extracting: HRDataset/10006.yaml    \n",
            " extracting: HRDataset/10010.yaml    \n",
            "  inflating: HRDataset/10011.yaml    \n",
            "  inflating: HRDataset/10007.yaml    \n",
            "  inflating: HRDataset/10027.yaml    \n",
            " extracting: HRDataset/10016.yaml    \n",
            "  inflating: HRDataset/10020.yaml    \n",
            "  inflating: HRDataset/10021.yaml    \n",
            "  inflating: HRDataset/10017.yaml    \n",
            "  inflating: HRDataset/10001.yaml    \n"
          ]
        }
      ],
      "source": [
        "!wget https://raw.githubusercontent.com/TheAIDojo/Python-Course/main/HRDataset.zip\n",
        "!unzip HRDataset.zip"
      ]
    },
    {
      "cell_type": "code",
      "execution_count": 2,
      "metadata": {
        "deletable": false,
        "editable": false,
        "id": "shCDtqJGmB2s",
        "nbgrader": {
          "cell_type": "code",
          "checksum": "035e7fb63a3659e94c65df70d50a9102",
          "grade": false,
          "grade_id": "cell-d02aecb06e953f2f",
          "locked": true,
          "schema_version": 3,
          "solution": false,
          "task": false
        }
      },
      "outputs": [],
      "source": [
        "# Import os, we'll need it later to read the HRDataset files\n",
        "import os"
      ]
    },
    {
      "cell_type": "markdown",
      "metadata": {
        "deletable": false,
        "editable": false,
        "id": "HiRgsfvSre6I",
        "nbgrader": {
          "cell_type": "markdown",
          "checksum": "5e1dc76fe0fbf482dc6884cc127ecefa",
          "grade": false,
          "grade_id": "cell-bd86e1160356e7ab",
          "locked": true,
          "schema_version": 3,
          "solution": false,
          "task": false
        }
      },
      "source": [
        "## Assignment Start"
      ]
    },
    {
      "cell_type": "markdown",
      "metadata": {
        "deletable": false,
        "editable": false,
        "id": "j73DMKLy2mBp",
        "nbgrader": {
          "cell_type": "markdown",
          "checksum": "9d9b1f7e202a1df9b3b0820fcdd896ea",
          "grade": false,
          "grade_id": "cell-2d725ec3871dda31",
          "locked": true,
          "schema_version": 3,
          "solution": false,
          "task": false
        }
      },
      "source": [
        "### Task 01\n",
        "\n",
        "The company is looking to create a system that can be extended later to support other types of user other than employees such as customers, contractors, investors, etc.\n",
        "\n",
        "For that reason, we will be creating a parent class `Person` that contains general information that any person might have regardless of what they do for the company, and then another class `Employee` that inherits from the `Person` class and add attributes and functions that are required for employees."
      ]
    },
    {
      "cell_type": "markdown",
      "metadata": {
        "deletable": false,
        "editable": false,
        "nbgrader": {
          "cell_type": "markdown",
          "checksum": "676b75280d8270a07427f0a7dc26ac2d",
          "grade": false,
          "grade_id": "cell-0f91f16101ef9512",
          "locked": true,
          "schema_version": 3,
          "solution": false,
          "task": false
        },
        "id": "D_E64aiQlrut"
      },
      "source": [
        "#### Subtask A (2 pts)\n",
        "\n",
        "1. Create class `Person` with a constructor that takes in and stores the following attributes:\n",
        "    1. `name` a string that holds the person's name.\n",
        "    2. `DOB` a string that holds the person's date of birth.\n",
        "    3. `gender` a string that holds the person's gender.\n",
        "    4. `hobbies` a list of strings that contains the person's hobbies.\n",
        "        1. `hobbies` attribute in the constructor has a default value of an empty list `[]`.\n",
        "2. Create function `add_hobby` that takes in parameter `hobby` as a string and adds it to the `hobbies` list\n",
        "3. Create function `remove_hobby` that takes in parameter `hobby` as a string and removes it from the `hobbies` list"
      ]
    },
    {
      "cell_type": "code",
      "execution_count": 3,
      "metadata": {
        "deletable": false,
        "id": "RnIdhuewIgN8",
        "nbgrader": {
          "cell_type": "code",
          "checksum": "7890d99cd9559ba0d6a4762c4a62dc9d",
          "grade": false,
          "grade_id": "task01_a",
          "locked": false,
          "schema_version": 3,
          "solution": true,
          "task": false
        }
      },
      "outputs": [],
      "source": [
        "# YOUR CODE HERE\n",
        "\n",
        "class Person():\n",
        "\n",
        "  def __init__(self, name, DOB, gender, hobbies = []):\n",
        "    self.name = name\n",
        "    self.DOB = DOB\n",
        "    self.gender = gender\n",
        "    self.hobbies = hobbies\n",
        "  \n",
        "  def add_hobby(self, hobby):\n",
        "    self.hobby = hobby\n",
        "    self.hobbies.append(hobby)\n",
        "\n",
        "  def remove_hobby(self, hobby):\n",
        "    self.hobby = hobby\n",
        "    self.hobbies.remove(hobby)\n"
      ]
    },
    {
      "cell_type": "code",
      "execution_count": 4,
      "metadata": {
        "deletable": false,
        "editable": false,
        "id": "Jvja5iJp6eoD",
        "nbgrader": {
          "cell_type": "code",
          "checksum": "08a55150d3109fee181a46cd3b24cc3f",
          "grade": true,
          "grade_id": "task01_a_grade",
          "locked": true,
          "points": 2,
          "schema_version": 3,
          "solution": false,
          "task": false
        },
        "colab": {
          "base_uri": "https://localhost:8080/"
        },
        "outputId": "0f6aa581-3ed3-4974-93ef-47e39f601756"
      },
      "outputs": [
        {
          "output_type": "stream",
          "name": "stdout",
          "text": [
            "Sam ,  12/3/67 ,  M ,  ['Running']\n",
            "['Running', 'Singing']\n",
            "['Singing']\n"
          ]
        }
      ],
      "source": [
        "# Test (DO NOT EDIT)\n",
        "\n",
        "p = Person(\"Sam\",\"12/3/67\",\"M\",[\"Running\"])\n",
        "print(p.name, \", \", p.DOB, \", \", p.gender, \", \", p.hobbies)\n",
        "p.add_hobby('Singing')\n",
        "print(p.hobbies)\n",
        "p.remove_hobby('Running')\n",
        "print(p.hobbies)\n"
      ]
    },
    {
      "cell_type": "markdown",
      "metadata": {
        "deletable": false,
        "editable": false,
        "id": "R_IrZAg-A8b-",
        "nbgrader": {
          "cell_type": "markdown",
          "checksum": "1da14f7cacba62eef2bb8645159296ec",
          "grade": false,
          "grade_id": "cell-335245ed8cd5e5aa",
          "locked": true,
          "schema_version": 3,
          "solution": false,
          "task": false
        }
      },
      "source": [
        "Expected Output:\n",
        "```\n",
        "Sam ,  12/3/67 ,  M ,  ['Running']\n",
        "['Running', 'Singing']\n",
        "['Singing']\n",
        "\n",
        "```"
      ]
    },
    {
      "cell_type": "markdown",
      "metadata": {
        "deletable": false,
        "editable": false,
        "id": "nt6nL2Mg3sA2",
        "nbgrader": {
          "cell_type": "markdown",
          "checksum": "1212f713fdb0c8bf8ca07649c22d30c1",
          "grade": false,
          "grade_id": "cell-e12d8e5e20c098c1",
          "locked": true,
          "schema_version": 3,
          "solution": false,
          "task": false
        }
      },
      "source": [
        "#### Subtask B (2 pts)\n",
        "\n",
        "1. Create class `Employee` that inherits from class `Person` with a constructor that takes in the same attributes in `Person` in addition to the following employee-specific fields\n",
        "    1. `salary` a integer that holds the employee's salary.\n",
        "    2. `position` a string that holds the employee's job title.\n",
        "2. Create function `promote` that takes in two parameter `new_position` and `new_salary` and updates the employee's original `position` and `salary` fields."
      ]
    },
    {
      "cell_type": "code",
      "execution_count": 5,
      "metadata": {
        "deletable": false,
        "id": "NTBaeSIkORjN",
        "nbgrader": {
          "cell_type": "code",
          "checksum": "12b37d9eda442a25e038d9bc0f4f3041",
          "grade": false,
          "grade_id": "task01_b",
          "locked": false,
          "schema_version": 3,
          "solution": true,
          "task": false
        }
      },
      "outputs": [],
      "source": [
        "# YOUR CODE HERE\n",
        "\n",
        "class Employee(Person):\n",
        "\n",
        "  def __init__(self, name, DOB, gender, hobbies, salary, position):\n",
        "    super().__init__(name, DOB, gender, hobbies)\n",
        "    self.salary = salary\n",
        "    self.position = position\n",
        "\n",
        "  def promote (self, new_position, new_salary):\n",
        "    self.position = new_position\n",
        "    self.salary = new_salary\n",
        "    "
      ]
    },
    {
      "cell_type": "code",
      "execution_count": 6,
      "metadata": {
        "deletable": false,
        "editable": false,
        "id": "gcCQiRmnDn6w",
        "nbgrader": {
          "cell_type": "code",
          "checksum": "55ef3f117f755789ceead0b3d885781b",
          "grade": true,
          "grade_id": "task01_b_grade",
          "locked": true,
          "points": 2,
          "schema_version": 3,
          "solution": false,
          "task": false
        },
        "colab": {
          "base_uri": "https://localhost:8080/"
        },
        "outputId": "eed4aa0a-426a-40dc-e718-49e75cf8ee6a"
      },
      "outputs": [
        {
          "output_type": "stream",
          "name": "stdout",
          "text": [
            "Ahmed, 20/5/1986, M, [], 1500, Junior Python Developer\n",
            "Salary & Position before promotion: Junior Python Developer 1500\n",
            "Salary & Position before promotion: Senior Python Developer 3000\n"
          ]
        }
      ],
      "source": [
        "# Test (DO NOT EDIT)\n",
        "\n",
        "e = Employee('Ahmed','20/5/1986', 'M', [], 1500, \"Junior Python Developer\")\n",
        "print(e.name, e.DOB, e.gender, e.hobbies, e.salary, e.position, sep=\", \")\n",
        "print(\"Salary & Position before promotion:\", e.position, e.salary)\n",
        "e.promote(\"Senior Python Developer\", 3000)\n",
        "print(\"Salary & Position before promotion:\", e.position, e.salary)\n",
        "\n"
      ]
    },
    {
      "cell_type": "markdown",
      "metadata": {
        "deletable": false,
        "editable": false,
        "id": "3XdG7swNEXzA",
        "nbgrader": {
          "cell_type": "markdown",
          "checksum": "87f61c6c9d7adc774739cfa2f45d0b00",
          "grade": false,
          "grade_id": "cell-727b4076980ccf85",
          "locked": true,
          "schema_version": 3,
          "solution": false,
          "task": false
        }
      },
      "source": [
        "Expected Output:\n",
        "```\n",
        "Ahmed, 20/5/1986, M, [], 1500, Junior Python Developer\n",
        "Salary & Position before promotion: Junior Python Developer 1500\n",
        "Salary & Position before promotion: Senior Python Developer 3000\n",
        "```"
      ]
    },
    {
      "cell_type": "markdown",
      "metadata": {
        "deletable": false,
        "editable": false,
        "id": "JC5vjH1N7_mX",
        "nbgrader": {
          "cell_type": "markdown",
          "checksum": "7ebb3deac26911b2880a2ea5377351ff",
          "grade": false,
          "grade_id": "cell-a0618617a5c77864",
          "locked": true,
          "schema_version": 3,
          "solution": false,
          "task": false
        }
      },
      "source": [
        "### Task 2 (4 pts)\n",
        "\n",
        "create a function `read_data_from_folder` that takes a `folder_path` as an input, reads data from folder that contains files and returns a list of the data, with each element being a dictionary"
      ]
    },
    {
      "cell_type": "code",
      "execution_count": 7,
      "metadata": {
        "deletable": false,
        "id": "B66WTtTtmILp",
        "nbgrader": {
          "cell_type": "code",
          "checksum": "96a43eb2c8d68185c6dfc8af429e0cd9",
          "grade": false,
          "grade_id": "task02",
          "locked": false,
          "schema_version": 3,
          "solution": true,
          "task": false
        }
      },
      "outputs": [],
      "source": [
        "# YOUR CODE HERE\n",
        "def read_data_from_folder(folder_path):\n",
        "  Employee = []\n",
        "  Employee = os.listdir(f'/content/{folder_path}/')\n",
        "\n",
        "  Employee_info = []      \n",
        "  for i in range(len(Employee)):\n",
        "    with open(f'/content/{folder_path}/{Employee[i]}', 'r') as file:\n",
        "      str_test = file.read()\n",
        "      Employee_dict = dict((a.strip(), b.strip())\n",
        "      for a, b in (element.split(':')\n",
        "      for element in str_test.split('\\n')))\n",
        "      Employee_info.append(Employee_dict)\n",
        "  return Employee_info"
      ]
    },
    {
      "cell_type": "code",
      "execution_count": 8,
      "metadata": {
        "deletable": false,
        "editable": false,
        "id": "q8H0QeOLnA7Y",
        "nbgrader": {
          "cell_type": "code",
          "checksum": "027ca31926beead7bc14b66cca1f52b5",
          "grade": true,
          "grade_id": "taks02_grade",
          "locked": true,
          "points": 4,
          "schema_version": 3,
          "solution": false,
          "task": false
        },
        "colab": {
          "base_uri": "https://localhost:8080/"
        },
        "outputId": "33ef19f3-5b78-4f0a-f449-0413e967f618"
      },
      "outputs": [
        {
          "output_type": "stream",
          "name": "stdout",
          "text": [
            "Number of employees 29\n",
            "Beak, Kimberly\n"
          ]
        }
      ],
      "source": [
        "# Test (DO NOT EDIT)\n",
        "\n",
        "employees_data = read_data_from_folder('HRDataset')\n",
        "\n",
        "print(\"Number of employees\", len(employees_data))\n",
        "\n",
        "print(employees_data[0]['Employee_Name'])\n"
      ]
    },
    {
      "cell_type": "markdown",
      "metadata": {
        "deletable": false,
        "editable": false,
        "id": "Wcou3kcK1y4j",
        "nbgrader": {
          "cell_type": "markdown",
          "checksum": "f9af90c8dd3e96c147f26e2da73caf8a",
          "grade": false,
          "grade_id": "cell-0d0869dcbb2fc998",
          "locked": true,
          "schema_version": 3,
          "solution": false,
          "task": false
        }
      },
      "source": [
        "Expected Output\n",
        "\n",
        "```\n",
        "Number of employees 29\n",
        "Squatrito, Kristen\n",
        "```"
      ]
    },
    {
      "cell_type": "markdown",
      "metadata": {
        "deletable": false,
        "editable": false,
        "id": "kn2sgoqG338I",
        "nbgrader": {
          "cell_type": "markdown",
          "checksum": "66b49e9dd0b1c214b8c6a87da494ec4f",
          "grade": false,
          "grade_id": "cell-c58a9a926f357468",
          "locked": true,
          "schema_version": 3,
          "solution": false,
          "task": false
        }
      },
      "source": [
        "### Task 03 (2 pts)\n",
        "\n",
        "create a function `create_employee_objects` that takes a list of data as input and returns back a list with each element as an object that belongs to class `Employee`"
      ]
    },
    {
      "cell_type": "code",
      "execution_count": 9,
      "metadata": {
        "deletable": false,
        "id": "XhxDpc0PV95b",
        "nbgrader": {
          "cell_type": "code",
          "checksum": "145a0a3f1bb0fcd9286508694d9382ac",
          "grade": false,
          "grade_id": "task03",
          "locked": false,
          "schema_version": 3,
          "solution": true,
          "task": false
        }
      },
      "outputs": [],
      "source": [
        "# YOUR CODE HERE\n",
        "\n",
        "employees_data_list = []\n",
        "\n",
        "def create_employee_objects(lst):\n",
        "  for emp in lst:\n",
        "    emp = Employee(emp[\"Employee_Name\"], emp[\"DOB\"], emp[\"Sex\"], [], emp[\"Salary\"], emp[\"Position\"])\n",
        "    employees_data_list.append(emp)\n",
        "  return employees_data_list"
      ]
    },
    {
      "cell_type": "code",
      "execution_count": 10,
      "metadata": {
        "deletable": false,
        "editable": false,
        "id": "5rGwlfVuujDn",
        "nbgrader": {
          "cell_type": "code",
          "checksum": "f843c3716f3d87442ce20bef44ea2798",
          "grade": true,
          "grade_id": "task03_grade",
          "locked": true,
          "points": 2,
          "schema_version": 3,
          "solution": false,
          "task": false
        },
        "colab": {
          "base_uri": "https://localhost:8080/"
        },
        "outputId": "1c77a512-fd62-41b3-eedb-79aeefbb1b47"
      },
      "outputs": [
        {
          "output_type": "stream",
          "name": "stdout",
          "text": [
            "29\n",
            "Beak, Kimberly\n"
          ]
        }
      ],
      "source": [
        "# Test (DO NOT EDIT)\n",
        "\n",
        "employees_list = create_employee_objects(employees_data)\n",
        "\n",
        "print(len(employees_list))\n",
        "print(employees_list[0].name)\n"
      ]
    },
    {
      "cell_type": "markdown",
      "metadata": {
        "deletable": false,
        "editable": false,
        "id": "75eQ9tnZGUFT",
        "nbgrader": {
          "cell_type": "markdown",
          "checksum": "35515fed193322ec79437db4f7dc7d42",
          "grade": false,
          "grade_id": "cell-5b0aed510e2b1ed8",
          "locked": true,
          "schema_version": 3,
          "solution": false,
          "task": false
        }
      },
      "source": [
        "Expected Output:\n",
        "```\n",
        "29\n",
        "Squatrito, Kristen\n",
        "```"
      ]
    }
  ],
  "metadata": {
    "colab": {
      "collapsed_sections": [],
      "provenance": []
    },
    "kernelspec": {
      "display_name": "Python 3 (ipykernel)",
      "language": "python",
      "name": "python3"
    },
    "language_info": {
      "codemirror_mode": {
        "name": "ipython",
        "version": 3
      },
      "file_extension": ".py",
      "mimetype": "text/x-python",
      "name": "python",
      "nbconvert_exporter": "python",
      "pygments_lexer": "ipython3",
      "version": "3.7.13"
    }
  },
  "nbformat": 4,
  "nbformat_minor": 0
}